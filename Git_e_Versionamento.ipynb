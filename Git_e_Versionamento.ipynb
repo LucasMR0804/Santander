{
 "cells": [
  {
   "cell_type": "markdown",
   "metadata": {},
   "source": [
    "**Vídeo 01**\n",
    "\n",
    "\n",
    "*Versionamento*: guardar versões de um arquivo ; ajuda em trabalhos compartilhados, em que há o desenvolvimento parcial do projeto.\n",
    "\n",
    "*Git*: sistema de versionamento de código, que guarda os regristos da versão como \"snapchots\" do estado do projeto.\n",
    "\n",
    "*Operações Locais*: a maoria das operações são locais; por isso as operações são instantâneas devido à facilidade de acessar arquivos."
   ]
  },
  {
   "cell_type": "markdown",
   "metadata": {},
   "source": [
    "**Vídeo 02**\n",
    "\n",
    "Configurações inicias do git e seu download [git config --global user.name(email) \"  \"]"
   ]
  },
  {
   "cell_type": "markdown",
   "metadata": {},
   "source": [
    "**Vídeo 03**\n",
    "\n",
    "Comando \"cd\" para realocar o caminho.\n",
    "\n",
    "*git clone \"  \"*: clonar um repositório para uma pasta específica [depende do caminho que você coloca].\n",
    "\n",
    "*git init*: iniciar um diretório a partir do caminho escolhido."
   ]
  },
  {
   "cell_type": "markdown",
   "metadata": {},
   "source": [
    "**Vídeo 04**\n",
    "\n",
    "*Estados dos arquivos de acordo com o Git*:\n",
    "\n",
    "Unmodified - arquivo já mapeado [já passou por staged e já ter commit]\n",
    "\n",
    "Modified - arquivo modificado que pode ser salvo ou não\n",
    "\n",
    "Staged - área preparatória para dar o commit\n",
    "\n",
    "*git status*: estado do local\n",
    "\n",
    "*git add \"   \"*: inclusão no repositório."
   ]
  },
  {
   "cell_type": "markdown",
   "metadata": {},
   "source": [
    "**Vídeo 05**\n",
    "\n",
    "*git diff*: mostra as mudanças feitas nos arquivos ; linhas removidas em vermelho e linhas adicionadas em verdes ; teste\n",
    "\n",
    "*git commit*: salvar de vez as mudanças feitas nos arquivos."
   ]
  },
  {
   "cell_type": "markdown",
   "metadata": {},
   "source": [
    "**Vídeo 06**:\n",
    "\n",
    "*git log*: histórico das alterações [em amarelo o código da mudança] ; [pra sair é com \"q\"]\n",
    "\n",
    "*git restore*: mudar de volta ; *--staged* - mudança para área de staged."
   ]
  },
  {
   "cell_type": "markdown",
   "metadata": {},
   "source": [
    "**Vídeo 07 - Repositórios Remotos**\n",
    "\n",
    "*git remote*: mostra os repositórios remotos\n",
    "\n",
    "*git push \"nome do remoto\" \"branch\"*: envia para o repositório desejado pelas branchs escolhidas."
   ]
  },
  {
   "cell_type": "markdown",
   "metadata": {},
   "source": [
    "**Vídeo 08 - GitHub**\n",
    "\n",
    "Plataforma de hospedagem de código [forma de currículo ou complementação do mesmo].\n",
    "\n",
    "Plataforma de estudos de códigos de terceiros [repositórios abertos]."
   ]
  },
  {
   "cell_type": "markdown",
   "metadata": {},
   "source": [
    "**Vídeo 09 - Git Branch**\n",
    "\n",
    "*Branch* - ramificações de um código principal [desenvolvimento em paralelo de porções de um mesmo projeto] [o branch em que estamos é mostrado no canto esquerdo inferior no VSCode]\n",
    ".\n",
    "\n",
    "*git branch \"   \"* - criação de uma nova branch\n",
    "\n",
    "*git log --oneline --decorate* - indica o head, a localização do seu branch; assim como os commits por ser um log\n",
    "\n",
    "Objetivo: ir para nova branch.\n",
    "\n",
    "*git checkout \"   \"*: ir para uma nova branch [mover a head] ; [ao se retornar para uma branch, os arquivos salvos em outra branch não aparecem mais]."
   ]
  }
 ],
 "metadata": {
  "kernelspec": {
   "display_name": "Python 3",
   "language": "python",
   "name": "python3"
  },
  "language_info": {
   "name": "python",
   "version": "3.11.9"
  }
 },
 "nbformat": 4,
 "nbformat_minor": 2
}
